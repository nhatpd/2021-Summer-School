{
  "nbformat": 4,
  "nbformat_minor": 0,
  "metadata": {
    "colab": {
      "name": "PG-for-linear-logistic-regressions.ipynb",
      "provenance": [],
      "collapsed_sections": [],
      "authorship_tag": "ABX9TyMwFqrmOoHqhmtDdla+jT/g",
      "include_colab_link": true
    },
    "kernelspec": {
      "name": "python3",
      "display_name": "Python 3"
    },
    "language_info": {
      "name": "python"
    }
  },
  "cells": [
    {
      "cell_type": "markdown",
      "metadata": {
        "id": "view-in-github",
        "colab_type": "text"
      },
      "source": [
        "<a href=\"https://colab.research.google.com/github/nhatpd/2021-Summer-School/blob/main/Implementation-of-PG-for-linear-logistic-regressions.ipynb\" target=\"_parent\"><img src=\"https://colab.research.google.com/assets/colab-badge.svg\" alt=\"Open In Colab\"/></a>"
      ]
    },
    {
      "cell_type": "markdown",
      "metadata": {
        "id": "8ztDCai0Kscc"
      },
      "source": [
        "Implement (proximal) gradient algorithms for regression models:\n",
        "1. Linear regression with lasso\n",
        "2. logistic regression with lasso"
      ]
    },
    {
      "cell_type": "markdown",
      "metadata": {
        "id": "rlo1A90GuyFx"
      },
      "source": [
        "# Experiment on red wine quality"
      ]
    },
    {
      "cell_type": "code",
      "metadata": {
        "id": "IeXkFhbeu6r-"
      },
      "source": [
        "import pandas as pd\n",
        "red_wine = pd.read_csv('https://archive.ics.uci.edu/ml/machine-learning-databases/wine-quality/winequality-red.csv',sep = ';')\n",
        "X = red_wine.drop(['quality'],axis =1)\n",
        "y = red_wine['quality']\n",
        "\n",
        "from sklearn.model_selection import train_test_split\n",
        "X_train, X_test, y_train, y_test = train_test_split(X, y, test_size=0.2, random_state=42)\n",
        "\n",
        "from sklearn.preprocessing import StandardScaler\n",
        "\n",
        "std = StandardScaler()\n",
        "X_tr_prepared = std.fit_transform(X_train)\n",
        "\n",
        "X_t_prepared = std.transform(X_test)"
      ],
      "execution_count": 2,
      "outputs": []
    },
    {
      "cell_type": "markdown",
      "metadata": {
        "id": "4q1Hth3qvCPx"
      },
      "source": [
        "# Implementation of l1-regularized linear regression model"
      ]
    },
    {
      "cell_type": "code",
      "metadata": {
        "id": "uzlPbwK9GW4r"
      },
      "source": [
        "import numpy as np\n",
        "def LinearPredict(w, X_test):\n",
        "  n, d = X_test.shape\n",
        "  X_test = np.c_[np.ones((n, 1)), X_test]\n",
        "  return X_test.dot(w)"
      ],
      "execution_count": 3,
      "outputs": []
    },
    {
      "cell_type": "code",
      "metadata": {
        "id": "JnpVzFeLGuCT"
      },
      "source": [
        "def soft_thresholding(v, gamma):\n",
        "  return np.sign(v)*np.maximum(np.abs(v) - gamma,0)"
      ],
      "execution_count": 4,
      "outputs": []
    },
    {
      "cell_type": "code",
      "metadata": {
        "id": "j6oBE8ZHHKfu"
      },
      "source": [
        "def Train_LinearR(X_train, y_train, w0, eta = 0.1, maxIter = 1000, alpha = 0.1):\n",
        "  n, d = X_train.shape\n",
        "\n",
        "  X_train = np.c_[np.ones((n, 1)), X_train]\n",
        "  XTy = X_train.T.dot(y_train)\n",
        "\n",
        "  w = w0\n",
        "\n",
        "  Xw = X_train.dot(w)\n",
        "  \n",
        "  for iter in range(maxIter):\n",
        "    grad = 2/n * (X_train.T.dot(Xw) - XTy)\n",
        "    v = w - eta * grad\n",
        "    w = soft_thresholding(v,eta*alpha)\n",
        "    Xw = X_train.dot(w)\n",
        "    \n",
        "  return w"
      ],
      "execution_count": 107,
      "outputs": []
    },
    {
      "cell_type": "code",
      "metadata": {
        "id": "WoKddVUeIIxL"
      },
      "source": [
        "w0 = np.random.randn(X_tr_prepared.shape[1]+1)\n",
        "w = Train_LinearR(X_tr_prepared,y_train,w0)"
      ],
      "execution_count": 126,
      "outputs": []
    },
    {
      "cell_type": "code",
      "metadata": {
        "id": "rWWhd-6FLh_C"
      },
      "source": [
        "import time \n",
        "\n",
        "def LinearR(X_train, y_train, w0, X_val = None, y_val = None, eta = 0.1, maxIter = 1000, alpha = 0.1, maxTime = None, tol = None, early_stopping = None):\n",
        "  n, d = X_train.shape\n",
        "\n",
        "  Time = []\n",
        "  Time.append(0)\n",
        "  obj = []\n",
        "  rmse_train = []\n",
        "  rmse_val =[]\n",
        "  nnz = []\n",
        "  \n",
        "\n",
        "  X_train = np.c_[np.ones((n, 1)), X_train]\n",
        "  XTy = X_train.T.dot(y_train)\n",
        "  \n",
        "  w = w0\n",
        "  nnz.append(np.count_nonzero(w))\n",
        "\n",
        "  if early_stopping:\n",
        "    min_rmse_val = float('inf')\n",
        "  if X_val is not None:\n",
        "    n_t = X_val.shape[0]\n",
        "    y_hat = LinearPredict(w,X_val)\n",
        "    rmse_val.append(np.sqrt(np.linalg.norm(y_hat - y_val)**2/n_t))\n",
        "\n",
        "  Xw = X_train.dot(w)\n",
        "  mse = np.linalg.norm(Xw - y_train)**2/n\n",
        "  obj.append(mse + alpha*np.abs(w).sum())\n",
        "  rmse_train.append(np.sqrt(mse))\n",
        "\n",
        "  for iter in range(maxIter):\n",
        "    start_time = time.time()\n",
        "\n",
        "    grad = 2/n * (X_train.T.dot(Xw) - XTy)\n",
        "    v = w - eta * grad\n",
        "    w = soft_thresholding(v,eta*alpha)\n",
        "    Xw = X_train.dot(w)\n",
        "\n",
        "    Time.append(time.time() - start_time + Time[-1])\n",
        "    mse = np.linalg.norm(Xw - y_train)**2/n\n",
        "    obj.append(mse + alpha*np.abs(w).sum())\n",
        "    rmse_train.append(np.sqrt(mse))\n",
        "    nnz.append(np.count_nonzero(w))\n",
        "    if X_val is not None:\n",
        "      y_hat = LinearPredict(w,X_val)\n",
        "      rmse_val.append(np.sqrt(np.linalg.norm(y_hat - y_val)**2/n_t))\n",
        "\n",
        "    #stopping criterion\n",
        "    if maxTime is not None:\n",
        "      if Time[-1] > maxTime:\n",
        "        print('Stopped by MaxTime at ',iter,'-th iterattion')\n",
        "        break\n",
        "    if tol is not None:\n",
        "      if np.abs(obj[-1] - obj[-2]) <= tol:\n",
        "        print('Stopped by objective value at ',iter,'-th iterattion')\n",
        "        break\n",
        "    if early_stopping:\n",
        "      if rmse_val[-1] < min_rmse_val:\n",
        "        min_rmse_val = rmse_val[-1]\n",
        "      else:\n",
        "        print('Stopped by early stopping at ',iter,'-th iterattion')\n",
        "        break\n",
        "    \n",
        "  return w, obj, Time, rmse_train, nnz, rmse_val"
      ],
      "execution_count": 5,
      "outputs": []
    },
    {
      "cell_type": "code",
      "metadata": {
        "id": "xXeBrIzDBZUO"
      },
      "source": [
        "w0 = np.random.randn(X_tr_prepared.shape[1]+1)\n",
        "res = LinearR(X_tr_prepared,y_train,w0 = w0, X_val=X_t_prepared,y_val = y_test,early_stopping=True,maxIter=1000)"
      ],
      "execution_count": 5,
      "outputs": []
    },
    {
      "cell_type": "code",
      "metadata": {
        "colab": {
          "base_uri": "https://localhost:8080/"
        },
        "id": "G0qOZDo7Qb03",
        "outputId": "3061857c-7518-4f29-b3f0-f7570decddd5"
      },
      "source": [
        "min(res[5])"
      ],
      "execution_count": 6,
      "outputs": [
        {
          "output_type": "execute_result",
          "data": {
            "text/plain": [
              "0.6454738181687202"
            ]
          },
          "metadata": {},
          "execution_count": 6
        }
      ]
    },
    {
      "cell_type": "code",
      "metadata": {
        "colab": {
          "base_uri": "https://localhost:8080/",
          "height": 279
        },
        "id": "lTYQYBy3PZiw",
        "outputId": "48f274c5-7d91-44bd-9472-7b63e47d25aa"
      },
      "source": [
        "import matplotlib.pyplot as plt\n",
        "\n",
        "plt.plot(res[2], res[1], 'o-', color='red', markersize=2, linewidth =2, linestyle='--')\n",
        "\n",
        "plt.xlabel('Time')\n",
        "plt.ylabel('Objective')\n",
        "plt.grid(True)"
      ],
      "execution_count": 9,
      "outputs": [
        {
          "output_type": "display_data",
          "data": {
            "image/png": "[encoded data removed]",
            "text/plain": [
              "<Figure size 432x288 with 1 Axes>"
            ]
          },
          "metadata": {
            "needs_background": "light"
          }
        }
      ]
    },
    {
      "cell_type": "code",
      "metadata": {
        "id": "0mp5mQ4qSOco"
      },
      "source": [
        "class Linear_R:\n",
        "\n",
        "  def __init__(self, w0, eta = 0.1, maxIter = 1000, alpha = 0.1, maxTime = None, tol = None):\n",
        "\n",
        "    self.w = w0\n",
        "    self.eta = eta\n",
        "    self.maxIter = maxIter\n",
        "    self.alpha = alpha\n",
        "    self.maxTime = maxTime\n",
        "    self.tol = tol\n",
        "\n",
        "  def soft_thresholding(self, v, gamma):\n",
        "    return np.sign(v)*np.maximum(np.abs(v) - gamma,0)\n",
        "\n",
        "  def fit(self, X_train, y_train):\n",
        "\n",
        "    n, d = X_train.shape\n",
        "\n",
        "    Time = []\n",
        "    Time.append(0)\n",
        "    obj = []\n",
        "    rmse_train = []\n",
        "    \n",
        "    X_train = np.c_[np.ones((n, 1)), X_train]\n",
        "    XTy = X_train.T.dot(y_train)\n",
        "\n",
        "    Xw = X_train.dot(self.w)\n",
        "    mse = np.linalg.norm(Xw - y_train)**2/n\n",
        "    obj.append(mse + self.alpha*np.abs(self.w).sum())\n",
        "    rmse_train.append(np.sqrt(mse))\n",
        "    for iter in range(self.maxIter):\n",
        "      start_time = time.time()\n",
        "\n",
        "      grad = 2/n * (X_train.T.dot(Xw) - XTy)\n",
        "      v = self.w - self.eta * grad\n",
        "      self.w = self.soft_thresholding(v,self.eta*self.alpha)\n",
        "      Xw = X_train.dot(self.w)\n",
        "\n",
        "      Time.append(time.time() - start_time + Time[-1])\n",
        "      mse = np.linalg.norm(Xw - y_train)**2/n\n",
        "      obj.append(mse + self.alpha*np.abs(self.w).sum())\n",
        "      rmse_train.append(np.sqrt(mse))\n",
        "\n",
        "      #stopping conditions\n",
        "      if self.maxTime is not None:\n",
        "        if Time[-1] > self.maxTime:\n",
        "          print('Stopped by MaxTime at ',iter,'-th iterattion')\n",
        "          break\n",
        "      if self.tol is not None:\n",
        "        if np.abs(obj[-1] - obj[-2]) <= self.tol:\n",
        "          print('Stopped by the objective value at ',iter,'-th iterattion')\n",
        "          break\n",
        "      \n",
        "    return obj, Time, rmse_train\n",
        "  def predict(self, X_test):\n",
        "    n, d = X_test.shape\n",
        "    X_test = np.c_[np.ones((n, 1)), X_test]\n",
        "    return X_test.dot(self.w)"
      ],
      "execution_count": 173,
      "outputs": []
    },
    {
      "cell_type": "code",
      "metadata": {
        "id": "N-m1gDwzZQWJ"
      },
      "source": [
        "w0 = np.random.randn(X_tr_prepared.shape[1]+1)\n",
        "model = Linear_R(w0,maxTime=1)\n",
        "res = model.fit(X_tr_prepared,y_train)"
      ],
      "execution_count": 174,
      "outputs": []
    },
    {
      "cell_type": "markdown",
      "metadata": {
        "id": "rbU5x2mw8QvE"
      },
      "source": [
        "# Experiment on BlogFeedback"
      ]
    },
    {
      "cell_type": "code",
      "metadata": {
        "colab": {
          "base_uri": "https://localhost:8080/"
        },
        "id": "Mf5QnD238bJj",
        "outputId": "55e18e63-b1a4-488f-c2fa-9e7d8442e60b"
      },
      "source": [
        "!pip install wget\n",
        "import wget"
      ],
      "execution_count": 6,
      "outputs": [
        {
          "output_type": "stream",
          "text": [
            "Collecting wget\n",
            "  Downloading wget-3.2.zip (10 kB)\n",
            "Building wheels for collected packages: wget\n",
            "  Building wheel for wget (setup.py) ... \u001b[?25l\u001b[?25hdone\n",
            "  Created wheel for wget: filename=wget-3.2-py3-none-any.whl size=9672 sha256=8485e48234d899f88d07bcdaec832d44c597db4e5a73262f0dc0e9eb2aabf797\n",
            "  Stored in directory: /root/.cache/pip/wheels/a1/b6/7c/0e63e34eb06634181c63adacca38b79ff8f35c37e3c13e3c02\n",
            "Successfully built wget\n",
            "Installing collected packages: wget\n",
            "Successfully installed wget-3.2\n"
          ],
          "name": "stdout"
        }
      ]
    },
    {
      "cell_type": "code",
      "metadata": {
        "colab": {
          "base_uri": "https://localhost:8080/"
        },
        "id": "NXMKsudm8e97",
        "outputId": "10847644-04f6-49c2-d6cf-8b8fce067c4d"
      },
      "source": [
        "wget.download('https://archive.ics.uci.edu/ml/machine-learning-databases/00304/BlogFeedback.zip','BlogFeedback.zip')\n",
        "!unzip BlogFeedback.zip"
      ],
      "execution_count": 11,
      "outputs": [
        {
          "output_type": "stream",
          "text": [
            "Archive:  BlogFeedback.zip\n",
            "  inflating: blogData_test-2012.02.01.00_00.csv  \n",
            "  inflating: blogData_test-2012.02.02.00_00.csv  \n",
            "  inflating: blogData_test-2012.02.03.00_00.csv  \n",
            "  inflating: blogData_test-2012.02.04.00_00.csv  \n",
            "  inflating: blogData_test-2012.02.05.00_00.csv  \n",
            "  inflating: blogData_test-2012.02.06.00_00.csv  \n",
            "  inflating: blogData_test-2012.02.07.00_00.csv  \n",
            "  inflating: blogData_test-2012.02.08.00_00.csv  \n",
            "  inflating: blogData_test-2012.02.09.00_00.csv  \n",
            "  inflating: blogData_test-2012.02.10.00_00.csv  \n",
            "  inflating: blogData_test-2012.02.11.00_00.csv  \n",
            "  inflating: blogData_test-2012.02.12.00_00.csv  \n",
            "  inflating: blogData_test-2012.02.13.00_00.csv  \n",
            "  inflating: blogData_test-2012.02.14.00_00.csv  \n",
            "  inflating: blogData_test-2012.02.15.00_00.csv  \n",
            "  inflating: blogData_test-2012.02.16.00_00.csv  \n",
            "  inflating: blogData_test-2012.02.17.00_00.csv  \n",
            "  inflating: blogData_test-2012.02.18.00_00.csv  \n",
            "  inflating: blogData_test-2012.02.19.00_00.csv  \n",
            "  inflating: blogData_test-2012.02.20.00_00.csv  \n",
            "  inflating: blogData_test-2012.02.21.00_00.csv  \n",
            "  inflating: blogData_test-2012.02.22.00_00.csv  \n",
            "  inflating: blogData_test-2012.02.23.00_00.csv  \n",
            "  inflating: blogData_test-2012.02.24.00_00.csv  \n",
            "  inflating: blogData_test-2012.02.25.00_00.csv  \n",
            "  inflating: blogData_test-2012.02.26.00_00.csv  \n",
            "  inflating: blogData_test-2012.02.27.00_00.csv  \n",
            "  inflating: blogData_test-2012.02.28.00_00.csv  \n",
            "  inflating: blogData_test-2012.02.29.00_00.csv  \n",
            "  inflating: blogData_test-2012.03.01.00_00.csv  \n",
            "  inflating: blogData_test-2012.03.02.00_00.csv  \n",
            "  inflating: blogData_test-2012.03.03.00_00.csv  \n",
            "  inflating: blogData_test-2012.03.04.00_00.csv  \n",
            "  inflating: blogData_test-2012.03.05.00_00.csv  \n",
            "  inflating: blogData_test-2012.03.06.00_00.csv  \n",
            "  inflating: blogData_test-2012.03.07.00_00.csv  \n",
            "  inflating: blogData_test-2012.03.08.00_00.csv  \n",
            "  inflating: blogData_test-2012.03.09.00_00.csv  \n",
            "  inflating: blogData_test-2012.03.10.00_00.csv  \n",
            "  inflating: blogData_test-2012.03.11.00_00.csv  \n",
            "  inflating: blogData_test-2012.03.12.00_00.csv  \n",
            "  inflating: blogData_test-2012.03.13.00_00.csv  \n",
            "  inflating: blogData_test-2012.03.14.00_00.csv  \n",
            "  inflating: blogData_test-2012.03.15.00_00.csv  \n",
            "  inflating: blogData_test-2012.03.16.00_00.csv  \n",
            "  inflating: blogData_test-2012.03.17.00_00.csv  \n",
            "  inflating: blogData_test-2012.03.18.00_00.csv  \n",
            "  inflating: blogData_test-2012.03.19.00_00.csv  \n",
            "  inflating: blogData_test-2012.03.20.00_00.csv  \n",
            "  inflating: blogData_test-2012.03.21.00_00.csv  \n",
            "  inflating: blogData_test-2012.03.22.00_00.csv  \n",
            "  inflating: blogData_test-2012.03.23.00_00.csv  \n",
            "  inflating: blogData_test-2012.03.24.00_00.csv  \n",
            "  inflating: blogData_test-2012.03.25.00_00.csv  \n",
            "  inflating: blogData_test-2012.03.26.01_00.csv  \n",
            "  inflating: blogData_test-2012.03.27.01_00.csv  \n",
            "  inflating: blogData_test-2012.03.28.01_00.csv  \n",
            "  inflating: blogData_test-2012.03.29.01_00.csv  \n",
            "  inflating: blogData_test-2012.03.30.01_00.csv  \n",
            "  inflating: blogData_test-2012.03.31.01_00.csv  \n",
            "  inflating: blogData_train.csv      \n"
          ],
          "name": "stdout"
        }
      ]
    },
    {
      "cell_type": "code",
      "metadata": {
        "id": "hCNoGj1Ch8wn"
      },
      "source": [
        "train = pd.read_csv('blogData_train.csv',header = None)\n",
        "test = pd.read_csv('blogData_test-2012.03.31.01_00.csv',header = None)\n",
        "X_train = train.drop([280],axis =1)\n",
        "y_train = train[280]\n",
        "\n",
        "X_test = test.drop([280],axis =1)\n",
        "y_test = test[280]\n",
        "\n",
        "std = StandardScaler()\n",
        "X_tr_prepared = std.fit_transform(X_train)\n",
        "X_t_prepared = std.transform(X_test)"
      ],
      "execution_count": 12,
      "outputs": []
    },
    {
      "cell_type": "code",
      "metadata": {
        "id": "R5dYqg4N8Pzj"
      },
      "source": [
        "w0 = np.random.randn(X_tr_prepared.shape[1]+1)\n",
        "res = LinearR(X_tr_prepared,y_train,w0 = w0, X_val=X_t_prepared,y_val = y_test,early_stopping=False,maxIter=1000, eta =0.01,tol =1e-4,alpha = 2)"
      ],
      "execution_count": 22,
      "outputs": []
    },
    {
      "cell_type": "code",
      "metadata": {
        "colab": {
          "base_uri": "https://localhost:8080/",
          "height": 279
        },
        "id": "jIGGm-jri1_r",
        "outputId": "6b567e0c-ec1e-4dbe-d079-66a890570aa7"
      },
      "source": [
        "import matplotlib.pyplot as plt\n",
        "\n",
        "plt.plot(res[2], res[3], 'o-', color='red', markersize=2, linewidth =2, linestyle='--')\n",
        "\n",
        "plt.xlabel('Time')\n",
        "plt.ylabel('Objective')\n",
        "plt.grid(True)"
      ],
      "execution_count": 28,
      "outputs": [
        {
          "output_type": "display_data",
          "data": {
            "image/png": "[encoded data removed]",
            "text/plain": [
              "<Figure size 432x288 with 1 Axes>"
            ]
          },
          "metadata": {
            "needs_background": "light"
          }
        }
      ]
    },
    {
      "cell_type": "code",
      "metadata": {
        "colab": {
          "base_uri": "https://localhost:8080/",
          "height": 295
        },
        "id": "LgsSmm3vjNAj",
        "outputId": "a1423a1b-ddd2-4682-8b9a-fb3d39644b6b"
      },
      "source": [
        "import matplotlib.pyplot as plt\n",
        "\n",
        "plt.plot(res[2], res[5], 'o-', color='red', markersize=2, linewidth =2, linestyle='--')\n",
        "\n",
        "plt.xlabel('Time')\n",
        "plt.ylabel('RMSE')\n",
        "plt.title(\"RMSE on testing set\")\n",
        "plt.grid(True)"
      ],
      "execution_count": 23,
      "outputs": [
        {
          "output_type": "display_data",
          "data": {
            "image/png": "[encoded data removed]",
            "text/plain": [
              "<Figure size 432x288 with 1 Axes>"
            ]
          },
          "metadata": {
            "needs_background": "light"
          }
        }
      ]
    },
    {
      "cell_type": "markdown",
      "metadata": {
        "id": "5EwxePyaUCPV"
      },
      "source": [
        "Practice:\n",
        "\n",
        "1. Implement Ride and Elastic Net regressions\n",
        "2. Compute the Lipschitz constant and train models with this learning rate\n",
        "3. Implement early_stopping using class Linear_R without modifying"
      ]
    },
    {
      "cell_type": "markdown",
      "metadata": {
        "id": "rA25oYkud75N"
      },
      "source": [
        "# Logistic regression model"
      ]
    },
    {
      "cell_type": "markdown",
      "metadata": {
        "id": "TedyqV9TrvRo"
      },
      "source": [
        "Experiment on GISETTE"
      ]
    },
    {
      "cell_type": "code",
      "metadata": {
        "colab": {
          "base_uri": "https://localhost:8080/",
          "height": 35
        },
        "id": "9Adc1tFPsSVe",
        "outputId": "645f4eaf-366b-47d8-c6a0-ff61e1a5c64b"
      },
      "source": [
        "wget.download('https://www.csie.ntu.edu.tw/~cjlin/libsvmtools/datasets/binary/gisette_scale.bz2','gisette_scale.bz2')\n",
        "wget.download('https://www.csie.ntu.edu.tw/~cjlin/libsvmtools/datasets/binary/gisette_scale.t.bz2','gisette_scale.t.bz2')"
      ],
      "execution_count": 7,
      "outputs": [
        {
          "output_type": "execute_result",
          "data": {
            "application/vnd.google.colaboratory.intrinsic+json": {
              "type": "string"
            },
            "text/plain": [
              "'gisette_scale.t.bz2'"
            ]
          },
          "metadata": {},
          "execution_count": 7
        }
      ]
    },
    {
      "cell_type": "code",
      "metadata": {
        "id": "ZA7Jhm7Ys0qU"
      },
      "source": [
        "!bunzip2 gisette_scale.bz2\n",
        "!bunzip2 gisette_scale.t.bz2"
      ],
      "execution_count": 8,
      "outputs": []
    },
    {
      "cell_type": "code",
      "metadata": {
        "colab": {
          "base_uri": "https://localhost:8080/"
        },
        "id": "VHV9gUSkuJse",
        "outputId": "278cf57e-e19f-4f9f-e4b9-d5f0b52f0e4e"
      },
      "source": [
        "!pip install libsvm\n",
        "from libsvm.svmutil import svm_read_problem"
      ],
      "execution_count": 9,
      "outputs": [
        {
          "output_type": "stream",
          "text": [
            "Collecting libsvm\n",
            "  Downloading libsvm-3.23.0.4.tar.gz (170 kB)\n",
            "\u001b[?25l\r\u001b[K     |██                              | 10 kB 27.3 MB/s eta 0:00:01\r\u001b[K     |███▉                            | 20 kB 35.1 MB/s eta 0:00:01\r\u001b[K     |█████▊                          | 30 kB 38.7 MB/s eta 0:00:01\r\u001b[K     |███████▊                        | 40 kB 25.9 MB/s eta 0:00:01\r\u001b[K     |█████████▋                      | 51 kB 15.5 MB/s eta 0:00:01\r\u001b[K     |███████████▌                    | 61 kB 13.2 MB/s eta 0:00:01\r\u001b[K     |█████████████▌                  | 71 kB 12.6 MB/s eta 0:00:01\r\u001b[K     |███████████████▍                | 81 kB 14.0 MB/s eta 0:00:01\r\u001b[K     |█████████████████▎              | 92 kB 12.6 MB/s eta 0:00:01\r\u001b[K     |███████████████████▏            | 102 kB 11.3 MB/s eta 0:00:01\r\u001b[K     |█████████████████████▏          | 112 kB 11.3 MB/s eta 0:00:01\r\u001b[K     |███████████████████████         | 122 kB 11.3 MB/s eta 0:00:01\r\u001b[K     |█████████████████████████       | 133 kB 11.3 MB/s eta 0:00:01\r\u001b[K     |███████████████████████████     | 143 kB 11.3 MB/s eta 0:00:01\r\u001b[K     |████████████████████████████▉   | 153 kB 11.3 MB/s eta 0:00:01\r\u001b[K     |██████████████████████████████▊ | 163 kB 11.3 MB/s eta 0:00:01\r\u001b[K     |████████████████████████████████| 170 kB 11.3 MB/s \n",
            "\u001b[?25hBuilding wheels for collected packages: libsvm\n",
            "  Building wheel for libsvm (setup.py) ... \u001b[?25l\u001b[?25hdone\n",
            "  Created wheel for libsvm: filename=libsvm-3.23.0.4-cp37-cp37m-linux_x86_64.whl size=233363 sha256=d98ca6c4911c0f815d01c384d7702d53ae1c2f882d0ac7bc694e00435224bf95\n",
            "  Stored in directory: /root/.cache/pip/wheels/cd/e8/1e/bf95cf256e4d3ffc94289ab508c49d48e34c98220af63e3513\n",
            "Successfully built libsvm\n",
            "Installing collected packages: libsvm\n",
            "Successfully installed libsvm-3.23.0.4\n"
          ],
          "name": "stdout"
        }
      ]
    },
    {
      "cell_type": "code",
      "metadata": {
        "id": "mQhI5FB9tE4B"
      },
      "source": [
        "y_train, X_train = svm_read_problem('gisette_scale')\n",
        "from sklearn.feature_extraction import DictVectorizer\n",
        "v = DictVectorizer(sparse=False)\n",
        "X_train = v.fit_transform(X_train)"
      ],
      "execution_count": 10,
      "outputs": []
    },
    {
      "cell_type": "code",
      "metadata": {
        "id": "I6061s6Lv4l2"
      },
      "source": [
        "y_test, X_test = svm_read_problem('gisette_scale.t')\n",
        "X_test = v.transform(X_test)"
      ],
      "execution_count": 11,
      "outputs": []
    },
    {
      "cell_type": "code",
      "metadata": {
        "id": "paLXzcJa2cdj"
      },
      "source": [
        "std = StandardScaler()\n",
        "X_train = std.fit_transform(X_train)\n",
        "X_test = std.transform(X_test)"
      ],
      "execution_count": 12,
      "outputs": []
    },
    {
      "cell_type": "code",
      "metadata": {
        "id": "Arhk3W3LeAqC"
      },
      "source": [
        "from sklearn.metrics import accuracy_score\n",
        "class LogisticR:\n",
        "\n",
        "  def __init__(self, w0, eta = 0.1, maxIter = 1000, alpha = 0.1, maxTime = None, tol = None):\n",
        "\n",
        "    self.w = w0\n",
        "    self.eta = eta\n",
        "    self.maxIter = maxIter\n",
        "    self.alpha = alpha\n",
        "    self.maxTime = maxTime\n",
        "    self.tol = tol\n",
        "    self.Time = []\n",
        "    self.obj = []\n",
        "    self.acc_train = []\n",
        "    self.nnz = []\n",
        "\n",
        "  def soft_thresholding(self, v, gamma):\n",
        "    return np.sign(v)*np.maximum(np.abs(v) - gamma,0)\n",
        "\n",
        "  def fit(self, X_train, y_train, eval = True):\n",
        "\n",
        "    n, d = X_train.shape\n",
        "\n",
        "    X_train = np.c_[np.ones((n, 1)), X_train]\n",
        "    \n",
        "    Xw = X_train.dot(self.w)\n",
        "\n",
        "    for iter in range(self.maxIter):\n",
        "      \n",
        "      start_time = time.time()\n",
        "\n",
        "      aa = y_train*Xw\n",
        "\n",
        "      prob = 1/(1+np.exp(-aa))\n",
        "\n",
        "      b = y_train*(1-prob)/n\n",
        "\n",
        "      grad = X_train.T.dot(-b)\n",
        "\n",
        "      v = self.w - self.eta * grad\n",
        "\n",
        "      self.w = self.soft_thresholding(v,self.eta*self.alpha)\n",
        "\n",
        "      Xw = X_train.dot(self.w)\n",
        "\n",
        "      self.Time.append(time.time() - start_time)\n",
        "      if eval:\n",
        "\n",
        "        bb = np.maximum(-aa,0)\n",
        "        f_val = (np.log(np.exp(-bb) +  np.exp(-aa-bb)) + bb).mean()\n",
        "        self.obj.append(f_val + self.alpha*np.abs(self.w).sum())\n",
        "\n",
        "        self.nnz.append(np.count_nonzero(self.w))\n",
        "\n",
        "        y_pred = np.sign(Xw)\n",
        "        y_pred[y_pred==0] = 1\n",
        "        self.acc_train.append(accuracy_score(y_train,y_pred))\n",
        "        #stopping conditions\n",
        "        if self.maxTime is not None:\n",
        "          if np.sum(self.Time) > self.maxTime:\n",
        "            print('Stopped by MaxTime at ',iter,'-th iterattion')\n",
        "            break\n",
        "        if self.tol is not None:\n",
        "          if np.abs(self.obj[-1] - self.obj[-2]) <= self.tol:\n",
        "            print('Stopped by the objective value at ',iter,'-th iterattion')\n",
        "            break\n",
        "\n",
        "  def predict(self, X_test):\n",
        "    n, d = X_test.shape\n",
        "    X_test = np.c_[np.ones((n, 1)), X_test]\n",
        "    y_pred = np.sign(X_test.dot(self.w))\n",
        "    y_pred[y_pred==0] = 1\n",
        "    return y_pred"
      ],
      "execution_count": 73,
      "outputs": []
    },
    {
      "cell_type": "code",
      "metadata": {
        "id": "pwF9yIQg82n_"
      },
      "source": [
        "w0 = np.zeros(X_train.shape[1]+1) #np.random.randn(X_test.shape[1]+1)\n",
        "model = LogisticR(w0,eta = 0.01, alpha = 0.1, maxTime=100)\n",
        "model.fit(X_train,y_train)"
      ],
      "execution_count": 77,
      "outputs": []
    },
    {
      "cell_type": "code",
      "metadata": {
        "colab": {
          "base_uri": "https://localhost:8080/"
        },
        "id": "NP9U03DOOa2l",
        "outputId": "e7511e0c-78d7-49bd-f234-32bfedf69ec6"
      },
      "source": [
        "print(accuracy_score(y_test,model.predict(X_test)))"
      ],
      "execution_count": 75,
      "outputs": [
        {
          "output_type": "stream",
          "text": [
            "0.859\n"
          ],
          "name": "stdout"
        }
      ]
    },
    {
      "cell_type": "code",
      "metadata": {
        "colab": {
          "base_uri": "https://localhost:8080/",
          "height": 281
        },
        "id": "MMDUUrc5_FN1",
        "outputId": "63ef1769-87c7-4147-d976-5fa510390360"
      },
      "source": [
        "import matplotlib.pyplot as plt\n",
        "\n",
        "plt.plot(np.cumsum(model.Time), model.nnz, 'o-', color='red', markersize=2, linewidth =2, linestyle='--')\n",
        "\n",
        "plt.xlabel('Time')\n",
        "plt.ylabel('NNZ')\n",
        "# plt.title(\"\")\n",
        "plt.grid(True)"
      ],
      "execution_count": 76,
      "outputs": [
        {
          "output_type": "display_data",
          "data": {
            "image/png": "[encoded data removed]",
            "text/plain": [
              "<Figure size 432x288 with 1 Axes>"
            ]
          },
          "metadata": {
            "needs_background": "light"
          }
        }
      ]
    },
    {
      "cell_type": "markdown",
      "metadata": {
        "id": "bPMublgd3k8K"
      },
      "source": [
        "Practice:\n",
        "\n",
        "1. Implement an accelerated version for the logistic regression model\n",
        "2. Implement early-stopping\n",
        "3. Implement a bactracking line search"
      ]
    }
  ]
}
