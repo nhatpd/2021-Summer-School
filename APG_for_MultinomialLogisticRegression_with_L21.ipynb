{
  "nbformat": 4,
  "nbformat_minor": 0,
  "metadata": {
    "kernelspec": {
      "display_name": "Python 3",
      "language": "python",
      "name": "python3"
    },
    "language_info": {
      "codemirror_mode": {
        "name": "ipython",
        "version": 3
      },
      "file_extension": ".py",
      "mimetype": "text/x-python",
      "name": "python",
      "nbconvert_exporter": "python",
      "pygments_lexer": "ipython3",
      "version": "3.7.10"
    },
    "nav_menu": {},
    "toc": {
      "navigate_menu": true,
      "number_sections": true,
      "sideBar": true,
      "threshold": 6,
      "toc_cell": false,
      "toc_section_display": "block",
      "toc_window_display": false
    },
    "colab": {
      "name": "APG-for-MultinomialLogisticRegression-with-L21.ipynb",
      "provenance": [],
      "include_colab_link": true
    }
  },
  "cells": [
    {
      "cell_type": "markdown",
      "metadata": {
        "id": "view-in-github",
        "colab_type": "text"
      },
      "source": [
        "<a href=\"https://colab.research.google.com/github/nhatpd/2021-Summer-School/blob/main/APG_for_MultinomialLogisticRegression_with_L21.ipynb\" target=\"_parent\"><img src=\"https://colab.research.google.com/assets/colab-badge.svg\" alt=\"Open In Colab\"/></a>"
      ]
    },
    {
      "cell_type": "markdown",
      "metadata": {
        "id": "c-wSkEYrcp8B"
      },
      "source": [
        "## Accelerated proximal gradient algorithms for Softmax Regression with Group Lasso"
      ]
    },
    {
      "cell_type": "code",
      "metadata": {
        "id": "hHRsikUkcp8B"
      },
      "source": [
        "import numpy as np \n",
        "from sklearn import datasets\n",
        "iris = datasets.load_iris()\n",
        "X = iris[\"data\"] #[:, (2, 3)]  # petal length, petal width\n",
        "y = iris[\"target\"]"
      ],
      "execution_count": null,
      "outputs": []
    },
    {
      "cell_type": "code",
      "metadata": {
        "id": "Wm1_7Jhk1rQ0"
      },
      "source": [
        "from sklearn.decomposition import PCA\n",
        "pca = PCA(n_components = 2)\n",
        "X2D = pca.fit_transform(X)"
      ],
      "execution_count": null,
      "outputs": []
    },
    {
      "cell_type": "code",
      "metadata": {
        "id": "e4WoAlTX4v90",
        "colab": {
          "base_uri": "https://localhost:8080/",
          "height": 286
        },
        "outputId": "5c08b3e4-a5b9-41c9-e54f-10e05660600d"
      },
      "source": [
        "import seaborn as sns\n",
        "sns.scatterplot(x=X2D[:,0], y=X2D[:,1],hue=y)"
      ],
      "execution_count": null,
      "outputs": [
        {
          "output_type": "execute_result",
          "data": {
            "text/plain": [
              "<matplotlib.axes._subplots.AxesSubplot at 0x7f44427a4d90>"
            ]
          },
          "metadata": {},
          "execution_count": 43
        },
        {
          "output_type": "display_data",
          "data": {
            "image/png": "[encoded data removed]",
            "text/plain": [
              "<Figure size 432x288 with 1 Axes>"
            ]
          },
          "metadata": {
            "needs_background": "light"
          }
        }
      ]
    },
    {
      "cell_type": "code",
      "metadata": {
        "id": "48BmaL8_cp8C"
      },
      "source": [
        "test_ratio = 0.2\n",
        "validation_ratio = 0.2\n",
        "total_size = len(X)\n",
        "\n",
        "test_size = int(total_size * test_ratio)\n",
        "# validation_size = int(total_size * validation_ratio)\n",
        "train_size = total_size - test_size# - validation_size\n",
        "\n",
        "rnd_indices = np.random.permutation(total_size)\n",
        "\n",
        "X_train = X[rnd_indices[:train_size]]\n",
        "y_train = y[rnd_indices[:train_size]]\n",
        "# X_valid = X[rnd_indices[train_size:-test_size]]\n",
        "# y_valid = y[rnd_indices[train_size:-test_size]]\n",
        "X_test = X[rnd_indices[-test_size:]]\n",
        "y_test = y[rnd_indices[-test_size:]]"
      ],
      "execution_count": null,
      "outputs": []
    },
    {
      "cell_type": "markdown",
      "metadata": {
        "id": "_jfV5tuHcp8D"
      },
      "source": [
        "Softmax function:\n",
        "\n",
        "$\\hat{p}_k(x) = \\dfrac{\\exp(W_{:,k}^Tx + b_k)}{\\sum_{j=1}^K\\exp(W_{:,j}^Tx + b_j)}$\n",
        "\n",
        "Objective function: f + R, where\n",
        "\n",
        "$f(\\mathbf{W}) =\n",
        "- \\dfrac{1}{n}\\sum\\limits_{i=1}^{n}\\sum\\limits_{k=1}^{K}{y_i^k\\log\\left(\\hat{p}_k(x_i)\\right)}$\n",
        "\n",
        "$R(W) = \\|W\\|_{2,1} = \\sum_{i=1}^d\\|W_{i,:}\\|_2$\n",
        "\n",
        "Gradient:\n",
        "\n",
        "$\\nabla f(\\mathbf W) = \\dfrac{1}{n} \\sum\\limits_{i=1}^{n}{ \\left ( \\hat{p}_k(x_i) - y^k_i \\right ) \\mathbf{x}_i}$\n"
      ]
    },
    {
      "cell_type": "code",
      "metadata": {
        "id": "Y5bzS1OlF3XU"
      },
      "source": [
        "import time\n",
        "import numpy as np\n",
        "from sklearn.metrics import accuracy_score\n",
        "class MLogisticR:\n",
        "\n",
        "  def __init__(self, W0, eta = 0.01, maxIter = 1000, alpha = 0.1, maxTime = None, tol = None):\n",
        "\n",
        "    self.W = W0\n",
        "    self.eta = eta\n",
        "    self.maxIter = maxIter\n",
        "    self.alpha = alpha\n",
        "    self.maxTime = maxTime\n",
        "    self.tol = tol\n",
        "    self.Time = []\n",
        "    self.obj = []\n",
        "    self.acc_train = []\n",
        "    self.nnz = []\n",
        "\n",
        "  def ProxL21(self, V, gamma):\n",
        "    norm2 = np.linalg.norm(V,axis=1)\n",
        "    V[norm2 < gamma] = 0\n",
        "    V[norm2 >= gamma] = (1-gamma/norm2[norm2 >= gamma]).reshape(-1,1)*V[norm2 >= gamma]\n",
        "    return V\n",
        "  def softmax(self, XW):\n",
        "    exps = np.exp(XW)\n",
        "    exp_sums = np.sum(exps, axis=1, keepdims=True)\n",
        "    return exps / exp_sums\n",
        "  \n",
        "  def to_one_hot(self, y):\n",
        "    K = y.max() + 1\n",
        "    n = len(y)\n",
        "    Y_one_hot = np.zeros((n, K))\n",
        "    Y_one_hot[np.arange(n), y] = 1\n",
        "    return Y_one_hot\n",
        "\n",
        "  def fit(self, X_train, y_train, eval = True, inertial = True):\n",
        "\n",
        "    n, d = X_train.shape\n",
        "\n",
        "    X_train = np.c_[np.ones((n, 1)), X_train]\n",
        "\n",
        "    y_train_one_hot = self.to_one_hot(y_train)\n",
        "    \n",
        "    XW = X_train.dot(self.W)\n",
        "\n",
        "    XWp = XW\n",
        "    Wp = self.W\n",
        "    t = 1\n",
        "\n",
        "    # prob = self.softmax(XW)\n",
        "\n",
        "    for iter in range(self.maxIter):\n",
        "      \n",
        "      start_time = time.time()\n",
        "\n",
        "      if inertial:\n",
        "        tp = t\n",
        "      else: \n",
        "        tp = 1 \n",
        "\n",
        "      t = (1+np.sqrt(1+4*tp**2))/2\n",
        "      beta = (tp-1)/t\n",
        "\n",
        "      XWpp = (1 + beta)*XW - beta*XWp\n",
        "\n",
        "      prob = self.softmax(XWpp)\n",
        "\n",
        "      error = prob - y_train_one_hot\n",
        "\n",
        "      grad = 1/n * X_train.T.dot(error)\n",
        "\n",
        "      V = (1 + beta)*self.W - beta*Wp - self.eta * grad\n",
        "\n",
        "      Wp = self.W\n",
        "      self.W = self.ProxL21(V,self.eta*self.alpha)\n",
        "\n",
        "      XWp = XW\n",
        "      XW = X_train.dot(self.W)\n",
        "      \n",
        "\n",
        "      # prob = self.softmax(XW)\n",
        "\n",
        "      self.Time.append(time.time() - start_time)\n",
        "      if eval:\n",
        "        prob = self.softmax(XW)\n",
        "\n",
        "        f_val = -np.mean(np.sum(y_train_one_hot * np.log(prob + 1e-7), axis=1))\n",
        "        \n",
        "        norm2 = np.linalg.norm(self.W,axis=1)\n",
        "\n",
        "        self.obj.append(f_val + self.alpha*np.sum(norm2))\n",
        "\n",
        "        self.nnz.append(np.count_nonzero(norm2))\n",
        "\n",
        "        y_pred = np.argmax(prob, axis=1)\n",
        "\n",
        "        self.acc_train.append(accuracy_score(y_train,y_pred))\n",
        "        #stopping conditions\n",
        "        if self.maxTime is not None:\n",
        "          if np.sum(self.Time) > self.maxTime:\n",
        "            print('Stopped by MaxTime at ',iter,'-th iterattion')\n",
        "            break\n",
        "        if self.tol is not None:\n",
        "          if np.abs(self.obj[-1] - self.obj[-2]) <= self.tol:\n",
        "            print('Stopped by the objective value at ',iter,'-th iterattion')\n",
        "            break\n",
        "\n",
        "  def predict(self, X_test):\n",
        "    n, d = X_test.shape\n",
        "    X_test = np.c_[np.ones((n, 1)), X_test]\n",
        "    prob = self.softmax(X_test.dot(self.W))\n",
        "\n",
        "    y_pred = np.argmax(prob, axis=1)\n",
        "    return y_pred"
      ],
      "execution_count": null,
      "outputs": []
    },
    {
      "cell_type": "code",
      "metadata": {
        "id": "6oAkB8X6VWty"
      },
      "source": [
        "d = X_train.shape[1]\n",
        "K = len(np.unique(y_train))\n",
        "W0 = np.random.randn(d+1, K)\n",
        "MLR = MLogisticR(W0,maxIter=40,alpha=0)"
      ],
      "execution_count": null,
      "outputs": []
    },
    {
      "cell_type": "code",
      "metadata": {
        "id": "Cv9tCB6zVmUJ"
      },
      "source": [
        "MLR.fit(X_train,y_train)"
      ],
      "execution_count": null,
      "outputs": []
    },
    {
      "cell_type": "code",
      "metadata": {
        "colab": {
          "base_uri": "https://localhost:8080/"
        },
        "id": "3j-fA2Ts6yUT",
        "outputId": "92c7f003-8f26-4b5c-c09a-d3be82c55ba3"
      },
      "source": [
        "y_t_pred=MLR.predict(X_test)\n",
        "np.mean(y_test == y_t_pred)"
      ],
      "execution_count": null,
      "outputs": [
        {
          "output_type": "execute_result",
          "data": {
            "text/plain": [
              "0.9666666666666667"
            ]
          },
          "metadata": {},
          "execution_count": 64
        }
      ]
    },
    {
      "cell_type": "code",
      "metadata": {
        "colab": {
          "base_uri": "https://localhost:8080/",
          "height": 279
        },
        "id": "fbvEt5yfbKDr",
        "outputId": "57c81e86-97af-4897-bf64-9479d9dd2d67"
      },
      "source": [
        "import matplotlib.pyplot as plt\n",
        "\n",
        "plt.plot(np.cumsum(MLR.Time), MLR.obj, 'o-', color='red', markersize=2, linewidth =2, linestyle='--')\n",
        "\n",
        "plt.xlabel('Time')\n",
        "plt.ylabel('Objective value')\n",
        "# plt.title(\"\")\n",
        "plt.grid(True)"
      ],
      "execution_count": null,
      "outputs": [
        {
          "output_type": "display_data",
          "data": {
            "image/png": "[encoded data removed]",
            "text/plain": [
              "<Figure size 432x288 with 1 Axes>"
            ]
          },
          "metadata": {
            "needs_background": "light"
          }
        }
      ]
    },
    {
      "cell_type": "markdown",
      "metadata": {
        "id": "HqtrTzqq7dVk"
      },
      "source": [
        "Experiment on orlraws10P "
      ]
    },
    {
      "cell_type": "code",
      "metadata": {
        "colab": {
          "base_uri": "https://localhost:8080/"
        },
        "id": "p1JknJjw7ccd",
        "outputId": "70ac04a8-fa90-4cd9-893a-5f15bd5dddaf"
      },
      "source": [
        "!pip install wget\n",
        "import wget"
      ],
      "execution_count": null,
      "outputs": [
        {
          "output_type": "stream",
          "name": "stdout",
          "text": [
            "Collecting wget\n",
            "  Downloading wget-3.2.zip (10 kB)\n",
            "Building wheels for collected packages: wget\n",
            "  Building wheel for wget (setup.py) ... \u001b[?25l\u001b[?25hdone\n",
            "  Created wheel for wget: filename=wget-3.2-py3-none-any.whl size=9672 sha256=db1d9e991e6a32075ad2c91b4b42d57d33c9a870a98a5dec3ff8720ca35aecb1\n",
            "  Stored in directory: /root/.cache/pip/wheels/a1/b6/7c/0e63e34eb06634181c63adacca38b79ff8f35c37e3c13e3c02\n",
            "Successfully built wget\n",
            "Installing collected packages: wget\n",
            "Successfully installed wget-3.2\n"
          ]
        }
      ]
    },
    {
      "cell_type": "code",
      "metadata": {
        "colab": {
          "base_uri": "https://localhost:8080/",
          "height": 35
        },
        "id": "blhhV9Db9KFC",
        "outputId": "24f67c51-1bfd-48f7-8082-f177a1e91af7"
      },
      "source": [
        "wget.download('https://jundongl.github.io/scikit-feature/files/datasets/orlraws10P.mat','orlraws10P.mat')"
      ],
      "execution_count": null,
      "outputs": [
        {
          "output_type": "execute_result",
          "data": {
            "application/vnd.google.colaboratory.intrinsic+json": {
              "type": "string"
            },
            "text/plain": [
              "'orlraws10P.mat'"
            ]
          },
          "metadata": {},
          "execution_count": 67
        }
      ]
    },
    {
      "cell_type": "code",
      "metadata": {
        "id": "Y2n7txP7-AW6"
      },
      "source": [
        "import scipy.io\n",
        "orl = scipy.io.loadmat('orlraws10P.mat')"
      ],
      "execution_count": null,
      "outputs": []
    },
    {
      "cell_type": "code",
      "metadata": {
        "id": "3Wq5gluM-IyJ"
      },
      "source": [
        "X = orl['X']\n",
        "y = orl['Y']"
      ],
      "execution_count": null,
      "outputs": []
    },
    {
      "cell_type": "code",
      "metadata": {
        "id": "YLqfZI5x-py1"
      },
      "source": [
        "test_ratio = 0.2\n",
        "validation_ratio = 0.2\n",
        "total_size = len(X)\n",
        "\n",
        "test_size = int(total_size * test_ratio)\n",
        "validation_size = int(total_size * validation_ratio)\n",
        "train_size = total_size - test_size# - validation_size\n",
        "\n",
        "rnd_indices = np.random.permutation(total_size)\n",
        "\n",
        "X_train = X[rnd_indices[:train_size]]\n",
        "y_train = y[rnd_indices[:train_size]].T[0]-1\n",
        "# X_valid = X[rnd_indices[train_size:-test_size]]\n",
        "# y_valid = y[rnd_indices[train_size:-test_size]].T[0]-1\n",
        "X_test = X[rnd_indices[-test_size:]]\n",
        "y_test = y[rnd_indices[-test_size:]].T[0]-1\n"
      ],
      "execution_count": null,
      "outputs": []
    },
    {
      "cell_type": "code",
      "metadata": {
        "id": "M8I82bNuCNdm"
      },
      "source": [
        "from sklearn.preprocessing import StandardScaler\n",
        "std = StandardScaler()\n",
        "X_train = std.fit_transform(X_train)\n",
        "X_test = std.transform(X_test)\n",
        "# X_valid = std.transform(X_valid)"
      ],
      "execution_count": null,
      "outputs": []
    },
    {
      "cell_type": "code",
      "metadata": {
        "colab": {
          "base_uri": "https://localhost:8080/"
        },
        "id": "NfYqikLn_ELJ",
        "outputId": "aee1b45c-267e-433f-d7a5-76724e209c6f"
      },
      "source": [
        "d = X_train.shape[1]\n",
        "K = len(np.unique(y_train))\n",
        "W0 = np.zeros([d+1, K])\n",
        "MLR = MLogisticR(W0,eta =0.001, maxIter=5000,maxTime=2,alpha=0.2)\n",
        "MLR.fit(X_train,y_train)\n",
        "y_t_pred=MLR.predict(X_test)\n",
        "print(np.mean(y_test == y_t_pred))"
      ],
      "execution_count": null,
      "outputs": [
        {
          "output_type": "stream",
          "name": "stdout",
          "text": [
            "Stopped by MaxTime at  213 -th iterattion\n",
            "0.9\n"
          ]
        }
      ]
    },
    {
      "cell_type": "code",
      "metadata": {
        "colab": {
          "base_uri": "https://localhost:8080/",
          "height": 279
        },
        "id": "qFql1SYjBWQW",
        "outputId": "cfbfec98-ec25-4ffd-ad14-8612cd32273a"
      },
      "source": [
        "import matplotlib.pyplot as plt\n",
        "\n",
        "plt.plot(np.cumsum(MLR.Time), MLR.obj, 'o-', color='red', markersize=2, linewidth =2, linestyle='--')\n",
        "\n",
        "plt.xlabel('Time')\n",
        "plt.ylabel('Objective value')\n",
        "# plt.title(\"\")\n",
        "plt.grid(True)"
      ],
      "execution_count": null,
      "outputs": [
        {
          "output_type": "display_data",
          "data": {
            "image/png": "[encoded data removed]",
            "text/plain": [
              "<Figure size 432x288 with 1 Axes>"
            ]
          },
          "metadata": {
            "needs_background": "light"
          }
        }
      ]
    },
    {
      "cell_type": "markdown",
      "metadata": {
        "id": "PeYnoPmfHzMR"
      },
      "source": [
        "Exercise:\n",
        "\n",
        "1. Prove that f is a convex and $L$-smooth function\n",
        "2. Implement an early stopping condition\n",
        "3. Implement an accelerated proximal algorithm\n",
        "4. Test on multi-class data sets downloaded from https://www.csie.ntu.edu.tw/~cjlin/libsvmtools/datasets/"
      ]
    },
    {
      "cell_type": "code",
      "metadata": {
        "id": "LzHRvPB9wN09"
      },
      "source": [
        "import pandas as pd\n",
        "df = pd.read_csv('https://archive.ics.uci.edu/ml/machine-learning-databases/00325/Sensorless_drive_diagnosis.txt', sep = ' ',header = None)"
      ],
      "execution_count": null,
      "outputs": []
    },
    {
      "cell_type": "code",
      "metadata": {
        "id": "iWXNihn3wzD3"
      },
      "source": [
        "X = df.drop([48],axis = 1)\n",
        "y = df[48]"
      ],
      "execution_count": null,
      "outputs": []
    },
    {
      "cell_type": "code",
      "metadata": {
        "id": "HHhdbevMVVeg"
      },
      "source": [
        "test_ratio = 0.2\n",
        "validation_ratio = 0.2\n",
        "total_size = len(X)\n",
        "\n",
        "test_size = int(total_size * test_ratio)\n",
        "validation_size = int(total_size * validation_ratio)\n",
        "train_size = total_size - test_size# - validation_size\n",
        "\n",
        "rnd_indices = np.random.permutation(total_size)\n",
        "\n",
        "X_train = X.iloc[rnd_indices[:train_size]]\n",
        "y_train = y[rnd_indices[:train_size]]-1\n",
        "# X_valid = X[rnd_indices[train_size:-test_size]]\n",
        "# y_valid = y[rnd_indices[train_size:-test_size]].T[0]-1\n",
        "X_test = X.iloc[rnd_indices[-test_size:]]\n",
        "y_test = y[rnd_indices[-test_size:]]-1"
      ],
      "execution_count": null,
      "outputs": []
    },
    {
      "cell_type": "code",
      "metadata": {
        "id": "PEwzAf7bWWpT"
      },
      "source": [
        "from sklearn.preprocessing import StandardScaler\n",
        "std = StandardScaler()\n",
        "X_train = std.fit_transform(X_train)\n",
        "X_test = std.transform(X_test)"
      ],
      "execution_count": null,
      "outputs": []
    },
    {
      "cell_type": "code",
      "metadata": {
        "id": "-Ao8oahFKQob",
        "colab": {
          "base_uri": "https://localhost:8080/"
        },
        "outputId": "2980cf76-8608-47b0-9d0f-81347a9a4781"
      },
      "source": [
        "d = X_train.shape[1]\n",
        "K = len(np.unique(y_train))\n",
        "W0 = np.zeros([d+1, K])\n",
        "APG = MLogisticR(W0,eta =0.1, maxIter=10000,maxTime=50,alpha=0.01)\n",
        "APG.fit(X_train,y_train)\n",
        "y_t_pred=APG.predict(X_test)\n",
        "print(np.mean(y_test == y_t_pred))"
      ],
      "execution_count": null,
      "outputs": [
        {
          "output_type": "stream",
          "name": "stdout",
          "text": [
            "Stopped by MaxTime at  1159 -th iterattion\n",
            "0.8637723271515255\n"
          ]
        }
      ]
    },
    {
      "cell_type": "code",
      "metadata": {
        "id": "Ra12UwR2v9pN",
        "colab": {
          "base_uri": "https://localhost:8080/"
        },
        "outputId": "4a3d4016-4069-4c0a-a434-0c385696ba89"
      },
      "source": [
        "d = X_train.shape[1]\n",
        "K = len(np.unique(y_train))\n",
        "# W0 = np.zeros([d+1, K])\n",
        "PG = MLogisticR(W0,eta =0.1, maxIter=10000,maxTime=50,alpha=0.01)\n",
        "PG.fit(X_train,y_train,inertial=False)\n",
        "y_t_pred=PG.predict(X_test)\n",
        "print(np.mean(y_test == y_t_pred))"
      ],
      "execution_count": null,
      "outputs": [
        {
          "output_type": "stream",
          "name": "stdout",
          "text": [
            "Stopped by MaxTime at  1161 -th iterattion\n",
            "0.8060849500042732\n"
          ]
        }
      ]
    },
    {
      "cell_type": "code",
      "metadata": {
        "id": "51JZg-pc5Bl6"
      },
      "source": [
        "# from sklearn.linear_model import LogisticRegression\n",
        "# m = LogisticRegression(multi_class = 'multinomial')\n",
        "# m.fit(X_train,y_train)\n",
        "# y_t_pred=m.predict(X_test)\n",
        "# print(np.mean(y_test == y_t_pred))"
      ],
      "execution_count": null,
      "outputs": []
    },
    {
      "cell_type": "code",
      "metadata": {
        "colab": {
          "base_uri": "https://localhost:8080/",
          "height": 299
        },
        "id": "aOJYrCh13dp6",
        "outputId": "b2b509c8-46db-49e5-d9d7-8ef5d768f318"
      },
      "source": [
        "import matplotlib.pyplot as plt\n",
        "\n",
        "plt.plot(np.cumsum(PG.Time), PG.obj, 'o-', color='red', markersize=2, linewidth =2, linestyle='--',label='PG')\n",
        "plt.plot(np.cumsum(APG.Time), APG.obj, 'o-', color='blue', markersize=2, linewidth =2, linestyle='--',label='APG')\n",
        "\n",
        "plt.xlabel('Time')\n",
        "plt.ylabel('Objective value')\n",
        "# plt.title(\"\")\n",
        "plt.grid(True)\n",
        "plt.legend()"
      ],
      "execution_count": null,
      "outputs": [
        {
          "output_type": "execute_result",
          "data": {
            "text/plain": [
              "<matplotlib.legend.Legend at 0x7f444c4ff890>"
            ]
          },
          "metadata": {},
          "execution_count": 29
        },
        {
          "output_type": "display_data",
          "data": {
            "image/png": "[encoded data removed]",
            "text/plain": [
              "<Figure size 432x288 with 1 Axes>"
            ]
          },
          "metadata": {
            "needs_background": "light"
          }
        }
      ]
    }
  ]
}